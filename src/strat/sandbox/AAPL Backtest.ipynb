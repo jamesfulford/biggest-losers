{
  "cells": [
    {
      "cell_type": "markdown",
      "metadata": {},
      "source": [
        "# Prep"
      ]
    },
    {
      "cell_type": "code",
      "execution_count": null,
      "metadata": {
        "id": "Lfe1WViraB5p"
      },
      "outputs": [],
      "source": [
        "%%capture\n",
        "import sys; sys.path.append('../../..')\n",
        "\n",
        "# Requires alpaca_trade_api backtrader matplotlib==3.2.2 plotly quantstats ta-lib (also requires talib C install)\n",
        "from alpaca_trade_api.rest import REST, TimeFrame\n",
        "import backtrader as bt\n",
        "import matplotlib as mpl\n",
        "import pytz\n",
        "import datetime\n",
        "from functools import lru_cache\n",
        "\n",
        "import datetime\n",
        "\n",
        "mpl.rcParams['figure.dpi'] = 250\n",
        "\n",
        "%load_ext dotenv\n",
        "import os\n",
        "API_KEY = os.environ['APCA_API_KEY_ID']\n",
        "SECRET_KEY = os.environ['APCA_API_SECRET_KEY']\n",
        "assert API_KEY\n",
        "assert SECRET_KEY\n",
        "rest_api = REST(API_KEY, SECRET_KEY, 'https://paper-api.alpaca.markets')\n",
        "\n",
        "@lru_cache()\n",
        "def get_pandas_data(symbol, timeframe, start, end):\n",
        "  alpaca_data = rest_api.get_bars(symbol, timeframe, start, end, adjustment='all').df\n",
        "  alpaca_data.index = alpaca_data.index.tz_convert(\"America/New_York\")\n",
        "\n",
        "  if timeframe != TimeFrame.Day:\n",
        "    alpaca_data = alpaca_data.between_time(datetime.time(9, 30), datetime.time(16, 0), include_end=False)\n",
        "\n",
        "  return alpaca_data\n",
        "\n",
        "def run_backtest(strategy, symbol: str, start: datetime.date, end: datetime.date, params, cash: float, interval: TimeFrame):\n",
        "  cerebro = bt.Cerebro(stdstats=True)\n",
        "  cerebro.broker.setcash(cash)\n",
        "  cerebro.addstrategy(strategy, **params)\n",
        "  cerebro.addanalyzer(bt.analyzers.DrawDown, _name='drawdown')\n",
        "  cerebro.addanalyzer(bt.analyzers.TradeAnalyzer, _name='tradeanalyzer')\n",
        "  cerebro.addanalyzer(bt.analyzers.AnnualReturn, _name=\"annualreturn\")\n",
        "  cerebro.addanalyzer(bt.analyzers.PyFolio, _name='PyFolio')\n",
        "\n",
        "  data_d = get_pandas_data(symbol, interval, start, end)\n",
        "  feed1 = bt.feeds.PandasData(dataname=data_d, name=f\"{symbol}-{interval}\", tz=pytz.timezone('US/Eastern'))\n",
        "  cerebro.adddata(feed1)\n",
        "\n",
        "  results = cerebro.run()\n",
        "\n",
        "  cerebro.plot(iplot=False) # if keep on True, re-running breaks quantstats charts from showing\n",
        "\n",
        "  strat = results[0]\n",
        "  return strat"
      ]
    },
    {
      "cell_type": "markdown",
      "metadata": {},
      "source": [
        "# Strategy"
      ]
    },
    {
      "cell_type": "code",
      "execution_count": null,
      "metadata": {},
      "outputs": [],
      "source": [
        "symbol = 'AAPL'\n",
        "start = datetime.date(2015, 1, 1)\n",
        "end = datetime.date(2022, 8, 25)\n",
        "cash = 1000\n",
        "interval = \"1Min\"\n",
        "strategy_name = f\"{symbol}-sandbox\""
      ]
    },
    {
      "cell_type": "code",
      "execution_count": null,
      "metadata": {},
      "outputs": [],
      "source": [
        "from src.data.polygon import get_candles\n",
        "len(get_candles.get_d_candles(symbol, start, end))"
      ]
    },
    {
      "cell_type": "code",
      "execution_count": null,
      "metadata": {
        "id": "T0-66VmAhg5u"
      },
      "outputs": [],
      "source": [
        "class MyStrategy(bt.Strategy):\n",
        "    params = dict(\n",
        "      verbose=False,\n",
        "\n",
        "      # cci_period = 20,\n",
        "      # cci_factor = 0.015,  # default, unconfirmed\n",
        "      # cci_upper = 100,\n",
        "      # cci_lower = -90,\n",
        "\n",
        "      macd=(12, 26, 9),\n",
        "\n",
        "      rsi_period = 14,\n",
        "      rsi_upper = 75,\n",
        "      rsi_lower = 30,\n",
        "\n",
        "      longema_period = 200,\n",
        "    )\n",
        "\n",
        "    def log(self, *message):\n",
        "      if self.p.verbose:\n",
        "        print(self.data.datetime.datetime(0), *message)\n",
        "\n",
        "\n",
        "    def __init__(self):\n",
        "      self.rsi = bt.ind.RSI(period=self.p.rsi_period, upperband=self.p.rsi_upper, lowerband=self.p.rsi_lower)\n",
        "      period_me1, period_me2, period_signal = self.p.macd\n",
        "      self.macd = bt.ind.MACD(period_me1=period_me1, period_me2=period_me2, period_signal=period_signal)\n",
        "      # self.cci = bt.ind.CCI(period=self.p.cci_period, factor=self.p.cci_factor, upperband=self.p.cci_upper, lowerband=self.p.cci_lower)\n",
        "      self.longema = bt.ind.EMA(period=self.p.longema_period)\n",
        "\n",
        "      self.buy_signal = bt.And(bt.ind.CrossUp(self.macd.macd, self.macd.signal), self.data.close > self.longema)\n",
        "      self.sell_signal = bt.ind.CrossUp(self.rsi.rsi, self.p.rsi_upper)\n",
        "      # self.buy_signal = bt.And(bt.ind.CrossUp(self.cci.cci, self.p.cci_lower), self.data.close > self.longema)\n",
        "      # self.sell_signal = bt.Or(self.rsi.rsi > self.p.rsi_upper, self.data.close < self.longema)\n",
        "\n",
        "    def next(self):\n",
        "      # Buy once each time\n",
        "      # if self.buy_signal:\n",
        "      #   self.buy(size=1)\n",
        "      # if self.sell_signal:\n",
        "      #   self.sell(size=1)\n",
        "\n",
        "      # Max 1 position at a time\n",
        "      if self.position and self.sell_signal:\n",
        "        self.order_target_size(target=0)\n",
        "      if not self.position and self.buy_signal:\n",
        "        self.order_target_size(target=1)\n"
      ]
    },
    {
      "cell_type": "code",
      "execution_count": null,
      "metadata": {
        "colab": {
          "base_uri": "https://localhost:8080/",
          "height": 1000
        },
        "id": "s4IRnC3duvzJ",
        "outputId": "9f0ec535-aeee-47c7-8b08-29e2694d1a84"
      },
      "outputs": [],
      "source": [
        "strategy = run_backtest(MyStrategy, symbol, start, end,\n",
        "  {'verbose': True}\n",
        "  , cash, interval\n",
        ")"
      ]
    },
    {
      "cell_type": "code",
      "execution_count": null,
      "metadata": {},
      "outputs": [],
      "source": [
        "print(strategy.p.__dict__)\n",
        "import quantstats\n",
        "portfolio_stats = strategy.analyzers.getbyname('PyFolio')\n",
        "returns, positions, transactions, gross_lev = portfolio_stats.get_pf_items()\n",
        "returns.index = returns.index.tz_convert(None)\n",
        "quantstats.reports.full(returns)"
      ]
    },
    {
      "cell_type": "code",
      "execution_count": null,
      "metadata": {},
      "outputs": [],
      "source": [
        "transactions"
      ]
    },
    {
      "cell_type": "code",
      "execution_count": null,
      "metadata": {},
      "outputs": [],
      "source": [
        "from src.results import metadata, from_backtest\n",
        "from src import types\n",
        "\n",
        "transactions.index = transactions.index.tz_convert(\"America/New_York\")\n",
        "transactions['time'] = transactions.index\n",
        "\n",
        "from_backtest.write_results(strategy_name, [types.FilledOrder(intention=None,\n",
        "    symbol=t['symbol'].split('-')[0],  # because datasource is '{symbol}-{interval}', gotta remove the '-{interval}'\n",
        "    quantity=t['amount'], price=t['price'], datetime=t['time'].to_pydatetime()) for t in transactions.to_dict('records')],\n",
        "    metadata.from_context(\"\", start, end, strategy.p.__dict__))\n",
        "print(strategy_name)"
      ]
    },
    {
      "cell_type": "markdown",
      "metadata": {
        "id": "BG-zsbxeC6FE"
      },
      "source": [
        "# Optimize"
      ]
    },
    {
      "cell_type": "code",
      "execution_count": null,
      "metadata": {
        "colab": {
          "base_uri": "https://localhost:8080/"
        },
        "id": "SYkmt8_RC970",
        "outputId": "9574f8d3-52ca-444e-85ef-fa14e1e8f4b0"
      },
      "outputs": [],
      "source": [
        "gridsearch = dict(\n",
        "    # cci_period = [20],\n",
        "    # cci_factor = [0.015],\n",
        "    # cci_upper = [-1000],\n",
        "    # cci_lower = [-100],\n",
        ")\n",
        "# update by hand\n",
        "time_per = datetime.timedelta(seconds=14)\n",
        "\n",
        "\n",
        "def get_roi(strategy):\n",
        "  annual_returns = strategy.analyzers.annualreturn.get_analysis()\n",
        "  r = 1\n",
        "  for ret in annual_returns.values():\n",
        "    r *= 1 + ret\n",
        "  r -= 1\n",
        "  return r\n",
        "\n",
        "def get_max_drawdown(strategy):\n",
        "  return strategy.analyzers.drawdown.get_analysis()['max']['drawdown']/100\n",
        "\n",
        "\n",
        "choices = 1\n",
        "for l in gridsearch.values():\n",
        "  choices *= len(l)\n",
        "\n",
        "estimated_time = time_per * choices\n",
        "print(f\"Estimated time (@ {time_per}, {choices}): {estimated_time}\")\n",
        "start_time = datetime.datetime.now()\n",
        "print(f\"(ending at {start_time + (time_per * choices)})\")\n",
        "print(\"=\" * 80)\n",
        "\n",
        "cerebro = bt.Cerebro(stdstats=True, maxcpus=1)  # inside of VS Code editor, this does not go well\n",
        "cerebro.broker.setcash(cash)\n",
        "cerebro.optstrategy(MyStrategy, **gridsearch)\n",
        "cerebro.addanalyzer(bt.analyzers.DrawDown, _name='drawdown')\n",
        "cerebro.addanalyzer(bt.analyzers.TradeAnalyzer, _name='tradeanalyzer')\n",
        "cerebro.addanalyzer(bt.analyzers.AnnualReturn, _name=\"annualreturn\")\n",
        "\n",
        "data1m = get_pandas_data(symbol, interval, start, end)\n",
        "feed1 = bt.feeds.PandasData(dataname=data1m, name=f\"{symbol}-{interval}\", tz=pytz.timezone('US/Eastern'))\n",
        "cerebro.adddata(feed1)\n",
        "\n",
        "runs = cerebro.run()\n",
        "backtest_results = [results[0] for results in runs]\n",
        "\n",
        "end_time = datetime.datetime.now()\n",
        "print(f\"Done. Took {end_time - start_time}\")\n",
        "print(f\"time per: {(end_time - start_time) / choices}\")"
      ]
    },
    {
      "cell_type": "code",
      "execution_count": null,
      "metadata": {},
      "outputs": [],
      "source": [
        "import pandas as pd\n",
        "\n",
        "def build_row(strategy):\n",
        "  analysis = strategy.analyzers.tradeanalyzer.get_analysis()\n",
        "  row = {\n",
        "    'roi': get_roi(strategy),\n",
        "    'drawdown': get_max_drawdown(strategy),\n",
        "    'trades': analysis['total']['total'],\n",
        "    'average_$': analysis['pnl']['gross']['average'],\n",
        "    'win_rate': analysis['won']['total'] / analysis['total']['total'],\n",
        "    'average_win_$': analysis['won']['pnl']['average'],\n",
        "    'average_loss_$': analysis['lost']['pnl']['average'],\n",
        "    'params': strategy.p.__dict__\n",
        "  }\n",
        "  row.update(strategy.p.__dict__)\n",
        "  return row\n",
        "results = pd.DataFrame([build_row(strategy) for strategy in sorted(backtest_results, key=get_roi, reverse=True) if strategy.analyzers.tradeanalyzer.get_analysis()['total']['total'] > 0])"
      ]
    },
    {
      "cell_type": "code",
      "execution_count": null,
      "metadata": {},
      "outputs": [],
      "source": [
        "results.sort_values('roi').tail()"
      ]
    },
    {
      "cell_type": "code",
      "execution_count": null,
      "metadata": {},
      "outputs": [],
      "source": [
        "mpl.rcParams['figure.dpi'] = 150\n",
        "results.plot(x='roi', y='drawdown', kind='scatter', xlim=(0, .2), ylim=(0, .05), title=\"Parameter Optimization\")"
      ]
    },
    {
      "cell_type": "code",
      "execution_count": null,
      "metadata": {},
      "outputs": [],
      "source": []
    }
  ],
  "metadata": {
    "colab": {
      "collapsed_sections": [
        "8mD6rWMppvZr"
      ],
      "name": "Apples Backtest Detail.ipynb",
      "provenance": []
    },
    "interpreter": {
      "hash": "aee8b7b246df8f9039afb4144a1f6fd8d2ca17a180786b69acc140d282b71a49"
    },
    "kernelspec": {
      "display_name": "Python 3.9.10 64-bit",
      "language": "python",
      "name": "python3"
    },
    "language_info": {
      "codemirror_mode": {
        "name": "ipython",
        "version": 3
      },
      "file_extension": ".py",
      "mimetype": "text/x-python",
      "name": "python",
      "nbconvert_exporter": "python",
      "pygments_lexer": "ipython3",
      "version": "3.9.10"
    }
  },
  "nbformat": 4,
  "nbformat_minor": 0
}
