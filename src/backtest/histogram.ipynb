{
 "cells": [
  {
   "cell_type": "code",
   "execution_count": null,
   "metadata": {},
   "outputs": [],
   "source": [
    "\n",
    "import plotly.express as px\n",
    "import pandas as pd\n",
    "\n",
    "import sys; sys.path.append('../..')\n",
    "import src.results.read_results as read_results\n",
    "\n",
    "trades = read_results.get_trades(\"ApplesOptions\")"
   ]
  },
  {
   "cell_type": "code",
   "execution_count": null,
   "metadata": {},
   "outputs": [],
   "source": [
    "%load_ext dotenv\n",
    "%dotenv"
   ]
  },
  {
   "cell_type": "code",
   "execution_count": null,
   "metadata": {},
   "outputs": [],
   "source": [
    "import datetime\n",
    "import typing\n",
    "import collections\n",
    "import itertools\n",
    "from src.backtest import brackets_historical\n",
    "\n",
    "tps = [0.05, 0.1, 0.2, 0.3, 0.4, 0.5, 0.6, 0.7, 0.8, 0.9]\n",
    "sls = [0.05, 0.1, 0.2, 0.3, 0.4, 0.5, 0.6, 0.7, 0.8, 0.9]\n",
    "points = []\n",
    "for tp, sl in itertools.product(\n",
    "    tps,\n",
    "    sls,\n",
    "):\n",
    "    # if sl > tp:\n",
    "    #     continue\n",
    "\n",
    "    bracket_set: list[brackets_historical.Bracket] = [{'take_profit_percentage': tp, 'stop_loss_percentage': sl, 'until': datetime.time(15, 59)}]\n",
    "    bracketed_trades = [brackets_historical.get_bracketed_virtual_trade(t, bracket_set) for t in trades]\n",
    "    profit = sum(t.get_profit_loss() for t in bracketed_trades)\n",
    "    print(tp, sl, collections.Counter(t.is_win() for t in bracketed_trades), profit)\n",
    "\n",
    "    points.append({\n",
    "        'tp': tp,\n",
    "        'sl': sl,\n",
    "        'profit': profit,\n",
    "    })\n"
   ]
  },
  {
   "cell_type": "code",
   "execution_count": null,
   "metadata": {},
   "outputs": [],
   "source": [
    "\n",
    "fig = px.density_heatmap(pd.DataFrame(points), x=\"sl\", y=\"tp\", z=\"profit\", nbinsx=len(sls), nbinsy=len(tps))\n",
    "fig.show()"
   ]
  },
  {
   "cell_type": "code",
   "execution_count": null,
   "metadata": {},
   "outputs": [],
   "source": [
    "for sl, tp in itertools.product(sls, tps):\n",
    "    bracket_set= typing.cast(\n",
    "        list[brackets_historical.Bracket],\n",
    "        [{'take_profit_percentage': tp, 'stop_loss_percentage': sl, 'until': datetime.time(15, 59)}]\n",
    "    )\n",
    "    bracketed_trades = [brackets_historical.get_bracketed_virtual_trade(t, bracket_set) for t in trades]\n",
    "    fig = px.histogram(\n",
    "        pd.DataFrame([{'roi': t.get_profit_loss() / t.get_value_spent()} for t in bracketed_trades]),\n",
    "        x='roi',\n",
    "        title=f'Bracketed trades sl={sl} tp={tp}',\n",
    "        marginal='rug',\n",
    "        range_x=[-1, 1],\n",
    "    )\n",
    "    fig.show()\n",
    "    print(\"^^^\", sl, tp, collections.Counter(t.is_win() for t in bracketed_trades),\n",
    "          sum(t.get_profit_loss() for t in bracketed_trades))"
   ]
  },
  {
   "cell_type": "code",
   "execution_count": null,
   "metadata": {},
   "outputs": [],
   "source": []
  }
 ],
 "metadata": {
  "interpreter": {
   "hash": "aee8b7b246df8f9039afb4144a1f6fd8d2ca17a180786b69acc140d282b71a49"
  },
  "kernelspec": {
   "display_name": "Python 3.9.10 64-bit",
   "language": "python",
   "name": "python3"
  },
  "language_info": {
   "codemirror_mode": {
    "name": "ipython",
    "version": 3
   },
   "file_extension": ".py",
   "mimetype": "text/x-python",
   "name": "python",
   "nbconvert_exporter": "python",
   "pygments_lexer": "ipython3",
   "version": "3.9.10"
  },
  "orig_nbformat": 4
 },
 "nbformat": 4,
 "nbformat_minor": 2
}
