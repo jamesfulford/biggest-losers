{
 "cells": [
  {
   "cell_type": "code",
   "execution_count": null,
   "metadata": {},
   "outputs": [],
   "source": [
    "import sys; sys.path.append('../..')\n",
    "\n",
    "from src.results import read_results"
   ]
  },
  {
   "cell_type": "code",
   "execution_count": null,
   "metadata": {},
   "outputs": [],
   "source": [
    "strat_names = [\n",
    "    # 'Apples',\n",
    "    'ApplesOptions',\n",
    "    # 'chipdip',\n",
    "    'SPY-from-2020-09-01-to-2022-08-01'\n",
    "]\n",
    "print(\"Orders\")\n",
    "for strat_name in strat_names:\n",
    "    print(strat_name, len(list(read_results.get_orders(strat_name))))"
   ]
  },
  {
   "cell_type": "code",
   "execution_count": null,
   "metadata": {},
   "outputs": [],
   "source": [
    "import matplotlib as mpl\n",
    "mpl.rcParams['figure.dpi'] = 100\n",
    "from src.risk import simulate_account\n",
    "import plotly.express as px\n",
    "import pandas as pd"
   ]
  },
  {
   "cell_type": "code",
   "execution_count": null,
   "metadata": {},
   "outputs": [],
   "source": [
    "returns_by_strat = {}\n",
    "for strat_name in strat_names:\n",
    "    print(strat_name, 'getting returns...')\n",
    "    orders = list(read_results.get_orders(strat_name))\n",
    "    simulation = simulate_account.Simulation.from_orders(orders, simulate_account.IdealAccountState.empty(simulate_account.build_td_simulation()))\n",
    "    # NOTE: this can be slow if fetching candles.\n",
    "    # Can make a script to pre-fetch all days for ticker at once for cache\n",
    "    # (instead of 1 day at a time per ticker)\n",
    "    returns = simulation.get_returns()\n",
    "    returns_by_strat[strat_name] = returns\n",
    "    print(strat_name, \"finished.\")"
   ]
  },
  {
   "cell_type": "markdown",
   "metadata": {},
   "source": [
    "# Time-aligned"
   ]
  },
  {
   "cell_type": "code",
   "execution_count": null,
   "metadata": {},
   "outputs": [],
   "source": [
    "px.line(pd.DataFrame({key: (1 + returns).cumprod() - 1 for key, returns in returns_by_strat.items()}))"
   ]
  },
  {
   "cell_type": "markdown",
   "metadata": {},
   "source": [
    "# Correlation of Returning Seasons"
   ]
  },
  {
   "cell_type": "code",
   "execution_count": null,
   "metadata": {},
   "outputs": [],
   "source": [
    "# px.line(pd.DataFrame({key: returns.rolling(window=22).mean() for key, returns in returns_by_strat.items()}))\n",
    "px.line(pd.DataFrame({key: returns.ewm(span=22, min_periods=22).mean() for key, returns in returns_by_strat.items()}))"
   ]
  },
  {
   "cell_type": "code",
   "execution_count": null,
   "metadata": {},
   "outputs": [],
   "source": [
    "df_corr = pd.DataFrame(returns_by_strat).corr()\n",
    "import numpy as np\n",
    "import seaborn as sns\n",
    "\n",
    "sns.heatmap(df_corr, annot=True, vmin=-1, vmax=1, center=0, cmap='vlag', mask=np.triu(np.ones_like(df_corr, dtype=bool))).plot()\n",
    "df_corr"
   ]
  },
  {
   "cell_type": "markdown",
   "metadata": {},
   "source": [
    "# Equity Curves"
   ]
  },
  {
   "cell_type": "code",
   "execution_count": null,
   "metadata": {},
   "outputs": [],
   "source": [
    "equity_curves = {strat_name: ((1 + returns).cumprod() - 1).set_axis(range(len(returns))) for strat_name, returns in returns_by_strat.items()}\n",
    "px.line(pd.DataFrame(equity_curves))"
   ]
  }
 ],
 "metadata": {
  "kernelspec": {
   "display_name": "Python 3.9.10 64-bit",
   "language": "python",
   "name": "python3"
  },
  "language_info": {
   "codemirror_mode": {
    "name": "ipython",
    "version": 3
   },
   "file_extension": ".py",
   "mimetype": "text/x-python",
   "name": "python",
   "nbconvert_exporter": "python",
   "pygments_lexer": "ipython3",
   "version": "3.9.10"
  },
  "orig_nbformat": 4,
  "vscode": {
   "interpreter": {
    "hash": "aee8b7b246df8f9039afb4144a1f6fd8d2ca17a180786b69acc140d282b71a49"
   }
  }
 },
 "nbformat": 4,
 "nbformat_minor": 2
}
