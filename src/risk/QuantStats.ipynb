{
 "cells": [
  {
   "cell_type": "code",
   "execution_count": null,
   "metadata": {},
   "outputs": [],
   "source": [
    "results_name = 'SPY-from-2020-09-01-to-2022-08-01'\n",
    "results_name = 'AAPL-sandbox'"
   ]
  },
  {
   "cell_type": "code",
   "execution_count": null,
   "metadata": {},
   "outputs": [],
   "source": [
    "import matplotlib as mpl\n",
    "mpl.rcParams['figure.dpi'] = 100\n",
    "\n",
    "import sys; sys.path.append('../..')\n",
    "\n",
    "from src.results import read_results\n",
    "from src.risk import simulate_account\n",
    "\n",
    "orders = list(read_results.get_orders(results_name))\n",
    "simulation = simulate_account.Simulation.from_orders(orders, simulate_account.IdealAccountState.empty(simulate_account.build_td_simulation()))\n",
    "len(orders)"
   ]
  },
  {
   "cell_type": "code",
   "execution_count": null,
   "metadata": {},
   "outputs": [],
   "source": [
    "print(simulation.get_ideal_initial_balance())\n",
    "simulation.get_values().plot()"
   ]
  },
  {
   "cell_type": "markdown",
   "metadata": {},
   "source": [
    "# Activity"
   ]
  },
  {
   "cell_type": "code",
   "execution_count": null,
   "metadata": {},
   "outputs": [],
   "source": [
    "import pandas as pd\n",
    "from zoneinfo import ZoneInfo\n",
    "def transaction(o):\n",
    "    d = o.to_dict()\n",
    "    del d['datetime']\n",
    "    return d\n",
    "transactions = pd.DataFrame([transaction(o) for o in orders], index=[o.datetime.astimezone(None) for o in orders])\n",
    "transactions.index = pd.to_datetime(transactions.index, utc=True).tz_convert(\"America/New_York\")\n"
   ]
  },
  {
   "cell_type": "code",
   "execution_count": null,
   "metadata": {},
   "outputs": [],
   "source": [
    "from matplotlib import pyplot as plt\n",
    "transactions['symbol'].groupby(by=[transactions.index.year, transactions.index.month]).count().plot()\n",
    "plt.show()\n",
    "transactions['symbol'].groupby(by=[transactions.index.year]).count().plot()\n",
    "plt.show()\n",
    "transactions['symbol'].groupby(by=[transactions.index.month]).count().plot()\n",
    "plt.show()"
   ]
  },
  {
   "cell_type": "markdown",
   "metadata": {},
   "source": [
    "# Quantstats Portfolio"
   ]
  },
  {
   "cell_type": "code",
   "execution_count": null,
   "metadata": {},
   "outputs": [],
   "source": [
    "returns = simulation.get_returns()\n",
    "returns"
   ]
  },
  {
   "cell_type": "code",
   "execution_count": null,
   "metadata": {},
   "outputs": [],
   "source": [
    "import quantstats\n",
    "risk_free_rate = 0.02\n",
    "returns = simulation.get_returns()\n",
    "quantstats.reports.full(returns, rf=risk_free_rate)"
   ]
  },
  {
   "cell_type": "code",
   "execution_count": null,
   "metadata": {},
   "outputs": [],
   "source": [
    "quantstats.plots.rolling_volatility(returns, period=22, period_label=\"22d\")"
   ]
  },
  {
   "cell_type": "code",
   "execution_count": null,
   "metadata": {},
   "outputs": [],
   "source": [
    "quantstats.plots.rolling_sharpe(returns, rf=risk_free_rate, period=22, period_label=\"22d\")"
   ]
  },
  {
   "cell_type": "code",
   "execution_count": null,
   "metadata": {},
   "outputs": [],
   "source": [
    "quantstats.stats.drawdown_details(returns)"
   ]
  },
  {
   "cell_type": "markdown",
   "metadata": {},
   "source": [
    "# Outlier Analysis"
   ]
  },
  {
   "cell_type": "code",
   "execution_count": null,
   "metadata": {},
   "outputs": [],
   "source": [
    "import plotly.express as px\n",
    "upside_outliers = quantstats.stats.outliers(returns)\n",
    "px.scatter(upside_outliers).show()\n",
    "upside_outliers.sort_values(ascending=False)"
   ]
  },
  {
   "cell_type": "code",
   "execution_count": null,
   "metadata": {},
   "outputs": [],
   "source": [
    "downside_outliers = -quantstats.stats.outliers(-returns)\n",
    "px.scatter(downside_outliers).show()\n",
    "downside_outliers.sort_values(ascending=True)"
   ]
  },
  {
   "cell_type": "markdown",
   "metadata": {},
   "source": [
    "# What If: Remove Outliers"
   ]
  },
  {
   "cell_type": "code",
   "execution_count": null,
   "metadata": {},
   "outputs": [],
   "source": [
    "\n",
    "quantstats.reports.full(returns[[d not in downside_outliers and d not in upside_outliers for d in returns.index]], rf=risk_free_rate)"
   ]
  },
  {
   "cell_type": "code",
   "execution_count": null,
   "metadata": {},
   "outputs": [],
   "source": []
  }
 ],
 "metadata": {
  "interpreter": {
   "hash": "aee8b7b246df8f9039afb4144a1f6fd8d2ca17a180786b69acc140d282b71a49"
  },
  "kernelspec": {
   "display_name": "Python 3.9.10 64-bit",
   "language": "python",
   "name": "python3"
  },
  "language_info": {
   "codemirror_mode": {
    "name": "ipython",
    "version": 3
   },
   "file_extension": ".py",
   "mimetype": "text/x-python",
   "name": "python",
   "nbconvert_exporter": "python",
   "pygments_lexer": "ipython3",
   "version": "3.9.10"
  },
  "orig_nbformat": 4
 },
 "nbformat": 4,
 "nbformat_minor": 2
}
